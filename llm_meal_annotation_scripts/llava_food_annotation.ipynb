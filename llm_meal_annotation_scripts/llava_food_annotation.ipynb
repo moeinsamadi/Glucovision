{
 "cells": [
  {
   "cell_type": "markdown",
   "metadata": {},
   "source": [
    "## Food LLM annotation"
   ]
  },
  {
   "cell_type": "code",
   "execution_count": 1,
   "metadata": {},
   "outputs": [],
   "source": [
    "import pandas as pd\n",
    "import os\n",
    "import base64\n",
    "import requests\n",
    "import re\n",
    "import numpy as np\n",
    "import ollama"
   ]
  },
  {
   "cell_type": "code",
   "execution_count": 5,
   "metadata": {},
   "outputs": [],
   "source": [
    "#picture 008 in patient 004, 008, 009, 010, 016 removed. Double\n",
    "#picture 021 in patient 001 removed. Double"
   ]
  },
  {
   "cell_type": "code",
   "execution_count": 24,
   "metadata": {},
   "outputs": [],
   "source": [
    "macronutrients_instruction = '''Examine the provided meal image to analyze and estimate its nutritional content accurately. Focus on determining the amounts of simple sugars (like industrial sugar and honey), \n",
    "complex sugars (such as starch and whole grains), proteins, fats, and dietary fibers (found in fruits and vegetables), all in grams. Also estimate the total weight of the meal in grams.\n",
    "To assist in accurately gauging the scale of the meal, a 1 Swiss Franc coin, which has a diameter of 23.22 mm, may be present in the picture. \n",
    "Use the size of this coin as a reference to estimate the size of the meal and the amounts of the nutrients more precisely. \n",
    "Provide your assessment of each nutritional component in grams. All estimates should be given as a single whole number. If there is no coin in the picture or the meal is covered partially, estimate anyways.\n",
    "Format your response as follows:\n",
    "- Simple sugars (g): \n",
    "- Complex sugars (g): \n",
    "- Proteins (g): \n",
    "- Fats (g): \n",
    "- Dietary fibers (g): \n",
    "- Weight (g): \n",
    "- Explanation: \n",
    "\n",
    "Example response:\n",
    "Simple sugars (g): 40\n",
    "Complex sugars (g): 60\n",
    "Proteins (g): 25\n",
    "Fats (g): 30\n",
    "Dietary fibers (g): 5 \n",
    "Weight (g): 750\n",
    "Explanation: The pizza and cola meal, with its refined crust and toppings, is rich in carbs, fats, and proteins. The cola boosts the meal's simple sugars. \n",
    "The 1 Swiss Franc coin helps estimate the pizza at 30 cm diameter and the cola at 330 ml, indicating a significant blood sugar impact.'''"
   ]
  },
  {
   "cell_type": "code",
   "execution_count": 26,
   "metadata": {},
   "outputs": [],
   "source": [
    "def encode_image(image_path):\n",
    "  with open(image_path, \"rb\") as image_file:\n",
    "    return base64.b64encode(image_file.read()).decode('utf-8')\n",
    "  \n",
    "def parse_nutritional_info(text):\n",
    "    pattern = r'(Simple sugars \\(g\\)|Complex sugars \\(g\\)|Proteins \\(g\\)|Fats \\(g\\)|Dietary fibers \\(g\\)|Weight \\(g\\)):\\s*(\\d+)'\n",
    "    matches = re.findall(pattern, text)\n",
    "    nutritional_info = {match[0]: int(match[1]) for match in matches}\n",
    "    simple_sugars = nutritional_info.get('Simple sugars (g)', 0)\n",
    "    complex_sugars = nutritional_info.get('Complex sugars (g)', 0)\n",
    "    proteins = nutritional_info.get('Proteins (g)', 0)\n",
    "    fats = nutritional_info.get('Fats (g)', 0)\n",
    "    dietary_fibers = nutritional_info.get('Dietary fibers (g)', 0)\n",
    "    weight = nutritional_info.get('Weight (g)', 0)\n",
    "    return simple_sugars, complex_sugars, proteins, fats, dietary_fibers, weight"
   ]
  },
  {
   "cell_type": "code",
   "execution_count": 38,
   "metadata": {},
   "outputs": [
    {
     "name": "stdout",
     "output_type": "stream",
     "text": [
      "Processing patient 008\n",
      "(20, 15, 10, 30, 5, 750)\n",
      "(20, 30, 5, 10, 2, 750)\n",
      "(50, 100, 20, 30, 10, 540)\n",
      "(60, 120, 15, 20, 3, 200)\n",
      "(50, 60, 20, 30, 5, 1700)\n",
      "(50, 75, 15, 25, 5, 625)\n",
      "(50, 120, 35, 15, 8, 700)\n",
      "(50, 70, 20, 10, 5, 650)\n",
      "(40, 60, 25, 30, 5, 750)\n",
      "(50, 100, 40, 20, 5, 750)\n",
      "(12, 48, 8, 3, 5, 0)\n",
      "(50, 100, 20, 30, 5, 730)\n",
      "(25, 50, 15, 10, 3, 98)\n",
      "(30, 50, 15, 20, 5, 90)\n",
      "(60, 30, 15, 20, 5, 850)\n"
     ]
    }
   ],
   "source": [
    "for patient in ['001', '002', '004', '006', '007', '008']:\n",
    "    print(f\"Processing patient {patient}\")\n",
    "    food_data = pd.read_csv(f'diabetes_subset_pictures-glucose-food-insulin/{patient}/food.csv')\n",
    "    food_data = food_data[['picture', 'datetime']]\n",
    "    food_data[['simple_sugars', 'complex_sugars', 'proteins', 'fats', 'dietary_fibers', 'weight', 'message']] = 0\n",
    "    for i, row in food_data.iterrows():\n",
    "        image_path = f\"diabetes_subset_pictures-glucose-food-insulin/{patient}/food_pictures/{row['picture']}\"\n",
    "        if not os.path.exists(image_path):\n",
    "            print(f\"Image {row['picture']} missing\") \n",
    "            next\n",
    "        base64_image = encode_image(image_path)\n",
    "        res = ollama.chat(\n",
    "            model=\"llava:v1.6\",\n",
    "            messages=[\n",
    "                {\n",
    "                    'role': 'user',\n",
    "                    'content': macronutrients_instruction,\n",
    "                    'images': [image_path]\n",
    "                }\n",
    "            ]\n",
    "        )\n",
    "        message = res['message']['content']\n",
    "        try:\n",
    "            parsed_info = parse_nutritional_info(message)\n",
    "            print(parsed_info)\n",
    "            food_data.loc[i, ['simple_sugars', 'complex_sugars', 'proteins', 'fats', 'dietary_fibers', 'weight']] = parsed_info\n",
    "            food_data.loc[i, 'message'] = message\n",
    "        except:\n",
    "            print(f\"Picture {row['picture']} for patient {patient} could not be annotated\")\n",
    "    food_data.to_csv(f'llava16_food_data/food_data_{patient}.csv', index=False)"
   ]
  }
 ],
 "metadata": {
  "kernelspec": {
   "display_name": "P_3_12",
   "language": "python",
   "name": "python3"
  },
  "language_info": {
   "codemirror_mode": {
    "name": "ipython",
    "version": 3
   },
   "file_extension": ".py",
   "mimetype": "text/x-python",
   "name": "python",
   "nbconvert_exporter": "python",
   "pygments_lexer": "ipython3",
   "version": "3.11.3"
  }
 },
 "nbformat": 4,
 "nbformat_minor": 2
}
